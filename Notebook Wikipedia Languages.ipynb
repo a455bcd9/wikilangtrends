{
 "cells": [
  {
   "cell_type": "code",
   "execution_count": 230,
   "metadata": {},
   "outputs": [
    {
     "ename": "ModuleNotFoundError",
     "evalue": "No module named 'pygal'",
     "output_type": "error",
     "traceback": [
      "\u001b[0;31m---------------------------------------------------------------------------\u001b[0m",
      "\u001b[0;31mModuleNotFoundError\u001b[0m                       Traceback (most recent call last)",
      "\u001b[0;32m<ipython-input-230-71d9f9cf4800>\u001b[0m in \u001b[0;36m<module>\u001b[0;34m\u001b[0m\n\u001b[1;32m      3\u001b[0m \u001b[0;32mfrom\u001b[0m \u001b[0mdatetime\u001b[0m \u001b[0;32mimport\u001b[0m \u001b[0mdate\u001b[0m\u001b[0;34m\u001b[0m\u001b[0;34m\u001b[0m\u001b[0m\n\u001b[1;32m      4\u001b[0m \u001b[0;32mimport\u001b[0m \u001b[0mpandas\u001b[0m \u001b[0;32mas\u001b[0m \u001b[0mpd\u001b[0m\u001b[0;34m\u001b[0m\u001b[0;34m\u001b[0m\u001b[0m\n\u001b[0;32m----> 5\u001b[0;31m \u001b[0;32mimport\u001b[0m \u001b[0mpygal\u001b[0m\u001b[0;34m\u001b[0m\u001b[0;34m\u001b[0m\u001b[0m\n\u001b[0m\u001b[1;32m      6\u001b[0m \u001b[0;34m\u001b[0m\u001b[0m\n\u001b[1;32m      7\u001b[0m \u001b[0;34m\u001b[0m\u001b[0m\n",
      "\u001b[0;31mModuleNotFoundError\u001b[0m: No module named 'pygal'"
     ]
    }
   ],
   "source": [
    "import json\n",
    "import requests\n",
    "from datetime import date\n",
    "import pandas as pd\n",
    "import pygal\n",
    "\n",
    "# As specified there: https://wikimedia.org/api/rest_v1/#/\n",
    "# Without your contact details you'll get an error\n",
    "contact_details = \"a455bcd9 on Wikipedia / @ADssx on Twitter\"\n",
    "headers = {\n",
    "    'User-Agent': contact_details\n",
    "}\n",
    "\n",
    "# Get all projects from the Wikimedia Foundation\n",
    "projects_list_url = \"https://commons.wikimedia.org/w/api.php?action=sitematrix&smtype=language&format=json\"\n",
    "projects_list_json = requests.get(projects_list_url, headers=headers).text\n",
    "\n",
    "projects = json.loads(projects_list_json)"
   ]
  },
  {
   "cell_type": "code",
   "execution_count": 182,
   "metadata": {},
   "outputs": [],
   "source": [
    "# Get all Wikipedias\n",
    "\n",
    "wiki_codes = []\n",
    "id = 0\n",
    "\n",
    "# Look the whole list\n",
    "for i in projects['sitematrix']:\n",
    "    # Only fetch dictionnaries\n",
    "    if isinstance(projects['sitematrix'][i],dict):\n",
    "        # Get the language code\n",
    "        code = projects['sitematrix'][i]['code']\n",
    "        \n",
    "        if code == 'be-x-old':\n",
    "            continue\n",
    "\n",
    "        # For each language, look at all different projects\n",
    "        for j in projects['sitematrix'][i]['site']:\n",
    "            # If the project is a Wikipedia, add the language code to the list of Wikipedias\n",
    "            if j['code'] == 'wiki':\n",
    "                wiki_codes += [code]"
   ]
  },
  {
   "cell_type": "code",
   "execution_count": 220,
   "metadata": {},
   "outputs": [
    {
     "data": {
      "text/html": [
       "<div>\n",
       "<style scoped>\n",
       "    .dataframe tbody tr th:only-of-type {\n",
       "        vertical-align: middle;\n",
       "    }\n",
       "\n",
       "    .dataframe tbody tr th {\n",
       "        vertical-align: top;\n",
       "    }\n",
       "\n",
       "    .dataframe thead th {\n",
       "        text-align: right;\n",
       "    }\n",
       "</style>\n",
       "<table border=\"1\" class=\"dataframe\">\n",
       "  <thead>\n",
       "    <tr style=\"text-align: right;\">\n",
       "      <th></th>\n",
       "      <th>en_wp</th>\n",
       "      <th>fr_wp</th>\n",
       "      <th>de_wp</th>\n",
       "      <th>es_wp</th>\n",
       "      <th>ru_wp</th>\n",
       "    </tr>\n",
       "    <tr>\n",
       "      <th>country</th>\n",
       "      <th></th>\n",
       "      <th></th>\n",
       "      <th></th>\n",
       "      <th></th>\n",
       "      <th></th>\n",
       "    </tr>\n",
       "  </thead>\n",
       "  <tbody>\n",
       "    <tr>\n",
       "      <th>US</th>\n",
       "      <td>3.396300e+09</td>\n",
       "      <td>19138000.0</td>\n",
       "      <td>10813000.0</td>\n",
       "      <td>48647000.0</td>\n",
       "      <td>17371000.0</td>\n",
       "    </tr>\n",
       "    <tr>\n",
       "      <th>GB</th>\n",
       "      <td>9.986070e+08</td>\n",
       "      <td>4339000.0</td>\n",
       "      <td>3025000.0</td>\n",
       "      <td>3017000.0</td>\n",
       "      <td>3886000.0</td>\n",
       "    </tr>\n",
       "    <tr>\n",
       "      <th>IN</th>\n",
       "      <td>6.783980e+08</td>\n",
       "      <td>693000.0</td>\n",
       "      <td>353000.0</td>\n",
       "      <td>343000.0</td>\n",
       "      <td>673000.0</td>\n",
       "    </tr>\n",
       "    <tr>\n",
       "      <th>CA</th>\n",
       "      <td>4.169020e+08</td>\n",
       "      <td>41614000.0</td>\n",
       "      <td>784000.0</td>\n",
       "      <td>1627000.0</td>\n",
       "      <td>2152000.0</td>\n",
       "    </tr>\n",
       "    <tr>\n",
       "      <th>AU</th>\n",
       "      <td>2.435640e+08</td>\n",
       "      <td>421000.0</td>\n",
       "      <td>372000.0</td>\n",
       "      <td>566000.0</td>\n",
       "      <td>440000.0</td>\n",
       "    </tr>\n",
       "  </tbody>\n",
       "</table>\n",
       "</div>"
      ],
      "text/plain": [
       "                en_wp       fr_wp       de_wp       es_wp       ru_wp\n",
       "country                                                              \n",
       "US       3.396300e+09  19138000.0  10813000.0  48647000.0  17371000.0\n",
       "GB       9.986070e+08   4339000.0   3025000.0   3017000.0   3886000.0\n",
       "IN       6.783980e+08    693000.0    353000.0    343000.0    673000.0\n",
       "CA       4.169020e+08  41614000.0    784000.0   1627000.0   2152000.0\n",
       "AU       2.435640e+08    421000.0    372000.0    566000.0    440000.0"
      ]
     },
     "execution_count": 220,
     "metadata": {},
     "output_type": "execute_result"
    }
   ],
   "source": [
    "# For each Wikipedia, get the number of page views in the last month\n",
    "\n",
    "today = date.today()\n",
    "\n",
    "year = today.year\n",
    "month = today.month - 1\n",
    "\n",
    "# Special case for January\n",
    "if today.month == 1:\n",
    "    year = year - 1\n",
    "    month = 12\n",
    "    \n",
    "last_month = date(year, month, 1)\n",
    "\n",
    "point_in_time = last_month.strftime('%Y/%m')\n",
    "\n",
    "# API example: https://wikimedia.org/api/rest_v1/metrics/pageviews/top-by-country/fr.wikipedia/all-access/2021/01\n",
    "base_url = \"https://wikimedia.org/api/rest_v1/metrics/pageviews/top-by-country/\"\n",
    "\n",
    "# For testing purposes\n",
    "wiki_codes = ['en', 'fr', 'de', 'es', 'ru']\n",
    "\n",
    "all_wikipedias = pd.DataFrame(columns=['country'])\n",
    "\n",
    "for code in wiki_codes:\n",
    "    # For each Wikipedia get the list of page views by country\n",
    "    project = code + \".wikipedia\"\n",
    "\n",
    "    countries_url = base_url + project + \"/all-access/\" + point_in_time\n",
    "\n",
    "    countries_json = requests.get(countries_url, headers=headers).text\n",
    "\n",
    "    countries = json.loads(countries_json)\n",
    "    \n",
    "    # Transform to a dataframe\n",
    "    # print(countries)\n",
    "    df = pd.DataFrame.from_dict(countries['items'][0]['countries'])\n",
    "\n",
    "    # Drop useless columns\n",
    "    df = df.drop(columns=['views', 'rank'])\n",
    "\n",
    "    # Rename one column\n",
    "    df = df.rename(columns={\"views_ceil\": code + \"_wp\"})\n",
    "\n",
    "    # Merging the dataframes on the country key with outer join\n",
    "    all_wikipedias = pd.merge(all_wikipedias, df, how=\"outer\", on=\"country\")\n",
    "\n",
    "# Set the country code as index\n",
    "all_wikipedias = all_wikipedias.set_index(\"country\")\n",
    "all_wikipedias.head()"
   ]
  },
  {
   "cell_type": "code",
   "execution_count": 229,
   "metadata": {},
   "outputs": [
    {
     "data": {
      "text/plain": [
       "country\n",
       "US    en_wp\n",
       "GB    en_wp\n",
       "IN    en_wp\n",
       "CA    en_wp\n",
       "AU    en_wp\n",
       "      ...  \n",
       "CC    en_wp\n",
       "WF    fr_wp\n",
       "NU    en_wp\n",
       "TK    en_wp\n",
       "EH    fr_wp\n",
       "Length: 243, dtype: object"
      ]
     },
     "execution_count": 229,
     "metadata": {},
     "output_type": "execute_result"
    }
   ],
   "source": [
    "all_wikipedias.idxmax(axis=1)"
   ]
  },
  {
   "cell_type": "code",
   "execution_count": 227,
   "metadata": {},
   "outputs": [],
   "source": [
    "# For each country, get the first and second top WP\n",
    "\n",
    "# https://stackoverflow.com/a/26016605/5285608\n",
    "# arank = all_wikipedias.apply(np.argsort, axis=1)\n",
    "# ranked_cols = df.columns.to_series()[arank.values[:,::-1][:,:2]]\n",
    "# new_frame = pd.DataFrame(ranked_cols, index=df.index)"
   ]
  },
  {
   "cell_type": "code",
   "execution_count": null,
   "metadata": {},
   "outputs": [],
   "source": []
  }
 ],
 "metadata": {
  "kernelspec": {
   "display_name": "Python 3",
   "language": "python",
   "name": "python3"
  },
  "language_info": {
   "codemirror_mode": {
    "name": "ipython",
    "version": 3
   },
   "file_extension": ".py",
   "mimetype": "text/x-python",
   "name": "python",
   "nbconvert_exporter": "python",
   "pygments_lexer": "ipython3",
   "version": "3.8.5"
  }
 },
 "nbformat": 4,
 "nbformat_minor": 4
}
